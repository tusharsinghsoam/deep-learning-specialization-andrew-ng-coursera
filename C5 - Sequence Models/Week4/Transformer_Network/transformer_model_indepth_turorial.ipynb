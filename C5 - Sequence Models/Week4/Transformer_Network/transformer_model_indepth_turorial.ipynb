{
 "cells": [
  {
   "cell_type": "code",
   "execution_count": 1,
   "metadata": {},
   "outputs": [
    {
     "name": "stderr",
     "output_type": "stream",
     "text": [
      "2025-07-31 05:07:52.012534: I tensorflow/core/platform/cpu_feature_guard.cc:210] This TensorFlow binary is optimized to use available CPU instructions in performance-critical operations.\n",
      "To enable the following instructions: AVX2 FMA, in other operations, rebuild TensorFlow with the appropriate compiler flags.\n"
     ]
    },
    {
     "name": "stdout",
     "output_type": "stream",
     "text": [
      "2.16.2\n",
      "Python 3.11.0\n"
     ]
    }
   ],
   "source": [
    "import tensorflow as tf\n",
    "print(tf.__version__)\n",
    "!python --version"
   ]
  },
  {
   "cell_type": "markdown",
   "metadata": {},
   "source": [
    "## General Attention Mechanism\n",
    "\n",
    "- Reference: https://machinelearningmastery.com/the-attention-mechanism-from-scratch/"
   ]
  },
  {
   "cell_type": "code",
   "execution_count": 2,
   "metadata": {},
   "outputs": [
    {
     "name": "stdout",
     "output_type": "stream",
     "text": [
      "(4, 3)\n"
     ]
    }
   ],
   "source": [
    "from numpy import array\n",
    "from numpy import random\n",
    "from scipy.special import softmax\n",
    " \n",
    "# encoder representations (3 dimensional) of four different words\n",
    "word_1 = array([1, 0, 0])\n",
    "word_2 = array([0, 1, 0])\n",
    "word_3 = array([1, 1, 0])\n",
    "word_4 = array([0, 0, 1])\n",
    "\n",
    "# stacking the word embeddings into a single array\n",
    "words = array([word_1, word_2, word_3, word_4])\n",
    "print(words.shape)"
   ]
  },
  {
   "cell_type": "code",
   "execution_count": 3,
   "metadata": {},
   "outputs": [
    {
     "name": "stdout",
     "output_type": "stream",
     "text": [
      "(3, 3)\n"
     ]
    }
   ],
   "source": [
    "# generating the weight matrices\n",
    "random.seed(42)\n",
    "W_Q = random.randint(3, size=(3, 3))\n",
    "W_K = random.randint(3, size=(3, 3))\n",
    "W_V = random.randint(3, size=(3, 3))\n",
    "print(W_K.shape)"
   ]
  },
  {
   "cell_type": "code",
   "execution_count": 4,
   "metadata": {},
   "outputs": [
    {
     "name": "stdout",
     "output_type": "stream",
     "text": [
      "(4, 3) (4, 3) (4, 3)\n"
     ]
    }
   ],
   "source": [
    "# generating the queries, keys and values\n",
    "Q = words @ W_Q\n",
    "K = words @ W_K\n",
    "V = words @ W_V\n",
    "print(Q.shape, K.shape, V.shape)"
   ]
  },
  {
   "cell_type": "code",
   "execution_count": 5,
   "metadata": {},
   "outputs": [
    {
     "name": "stdout",
     "output_type": "stream",
     "text": [
      "Scores shaoe:  (4, 4)\n",
      "Weights shape:  (4, 4)\n",
      "Attention Shape:  (4, 3)\n",
      "[[0.98522025 1.74174051 0.75652026]\n",
      " [0.90965265 1.40965265 0.5       ]\n",
      " [0.99851226 1.75849334 0.75998108]\n",
      " [0.99560386 1.90407309 0.90846923]]\n"
     ]
    }
   ],
   "source": [
    "# scoring the query vectors against all key vectors\n",
    "scores = Q @ K.transpose()\n",
    "print(\"Scores shaoe: \", scores.shape)\n",
    "\n",
    "# computing the weights by a softmax operation\n",
    "weights = softmax(scores / K.shape[1] ** 0.5, axis=1)\n",
    "print(\"Weights shape: \", weights.shape)\n",
    " \n",
    "# computing the attention by a weighted sum of the value vectors\n",
    "attention = weights @ V\n",
    "print(\"Attention Shape: \", attention.shape)\n",
    " \n",
    "print(attention)"
   ]
  },
  {
   "cell_type": "markdown",
   "metadata": {},
   "source": [
    "## Implementing the Scaled Dot-Product Attention from Scratch in tf and keras\n",
    "\n",
    " - Reference: https://machinelearningmastery.com/how-to-implement-scaled-dot-product-attention-from-scratch-in-tensorflow-and-keras/"
   ]
  },
  {
   "cell_type": "code",
   "execution_count": 6,
   "metadata": {},
   "outputs": [],
   "source": [
    "from tensorflow import matmul, math, cast, float32\n",
    "from keras import Layer, activations\n",
    "\n",
    "# Implementing the Scaled-Dot Product Attention\n",
    "class DotProductAttention(Layer):\n",
    "    def __init__(self, **kwargs):\n",
    "        super(DotProductAttention, self).__init__(**kwargs)\n",
    " \n",
    "    def call(self, queries, keys, values, d_k, mask=None):\n",
    "        # Scoring the queries against the keys after transposing the latter, and scaling\n",
    "        scores = matmul(queries, keys, transpose_b=True) / math.sqrt(cast(d_k, float32)) # shape would be: (64, 5, 5)\n",
    " \n",
    "        # Apply mask to the attention scores\n",
    "        if mask is not None:\n",
    "            scores += -1e9 * mask\n",
    " \n",
    "        # Computing the weights by a softmax operation\n",
    "        weights = activations.softmax(scores, axis=-1) # shape would be: (64, 5, 5)\n",
    " \n",
    "        # Computing the attention by a weighted sum of the value vectors\n",
    "        return matmul(weights, values) # shape would be: (64, 5, 64)"
   ]
  },
  {
   "cell_type": "code",
   "execution_count": 7,
   "metadata": {},
   "outputs": [
    {
     "data": {
      "text/plain": [
       "TensorShape([64, 5, 64])"
      ]
     },
     "execution_count": 7,
     "metadata": {},
     "output_type": "execute_result"
    }
   ],
   "source": [
    "from numpy import random\n",
    "import tensorflow as tf\n",
    " \n",
    "input_seq_length = 5  # Maximum length of the input sequence\n",
    "d_k = tf.constant(64)  # Dimensionality of the linearly projected queries and keys\n",
    "d_v = 64  # Dimensionality of the linearly projected values\n",
    "batch_size = 64  # Batch size from the training process\n",
    " \n",
    "queries = random.random((batch_size, input_seq_length, d_k)) # Shape would be: (64, 5, 64)\n",
    "keys = random.random((batch_size, input_seq_length, d_k)) # Shape would be: (64, 5, 64)\n",
    "values = random.random((batch_size, input_seq_length, d_v)) # Shape would be: (64, 5, 64)\n",
    " \n",
    "attention = DotProductAttention()\n",
    "attention(queries, keys, values, d_k).shape\n"
   ]
  },
  {
   "cell_type": "markdown",
   "metadata": {},
   "source": [
    "## Implement Multi-Head Attention from Scratch in TensorFlow and Keras\n",
    "\n",
    "- Reference: https://machinelearningmastery.com/how-to-implement-multi-head-attention-from-scratch-in-tensorflow-and-keras/"
   ]
  },
  {
   "cell_type": "markdown",
   "metadata": {},
   "source": [
    "### Dot Product layer"
   ]
  },
  {
   "cell_type": "code",
   "execution_count": 8,
   "metadata": {},
   "outputs": [],
   "source": [
    "from tensorflow import math, matmul, reshape, shape, transpose, cast, float32\n",
    "from keras import layers, Layer, activations\n",
    "\n",
    "# Implementing the Scaled-Dot Product Attention\n",
    "class DotProductAttention(Layer):\n",
    "    def __init__(self, **kwargs):\n",
    "        super(DotProductAttention, self).__init__(**kwargs)\n",
    "\n",
    "    def call(self, queries, keys, values, d_k, mask=None):\n",
    "        # Scoring the queries against the keys after transposing the latter, and scaling\n",
    "        # print(queries.shape, keys.shape)\n",
    "        scores = matmul(queries, keys, transpose_b=True) / math.sqrt(cast(d_k, float32))\n",
    "        # print(scores.shape)\n",
    "\n",
    "        # Apply mask to the attention scores\n",
    "        if mask is not None:\n",
    "            scores += -1e9 * mask\n",
    "            # print(scores.shape)\n",
    "\n",
    "        # Computing the weights by a softmax operation\n",
    "        weights = activations.softmax(scores)\n",
    "\n",
    "        # Computing the attention by a weighted sum of the value vectors\n",
    "        return matmul(weights, values)"
   ]
  },
  {
   "cell_type": "markdown",
   "metadata": {},
   "source": [
    "### MultiHeadAttention Layer"
   ]
  },
  {
   "cell_type": "code",
   "execution_count": 9,
   "metadata": {},
   "outputs": [],
   "source": [
    "# Implementing the Multi-Head Attention\n",
    "class MultiHeadAttention(Layer):\n",
    "    def __init__(self, h, d_k, d_v, d_model, **kwargs):\n",
    "        super(MultiHeadAttention, self).__init__(**kwargs)\n",
    "        self.attention = DotProductAttention()  # Scaled dot product attention\n",
    "        self.heads = h  # Number of attention heads to use\n",
    "        self.d_k = d_k  # Dimensionality of the linearly projected queries and keys\n",
    "        self.d_v = d_v  # Dimensionality of the linearly projected values\n",
    "        self.d_model = d_model  # Dimensionality of the model\n",
    "        self.W_q = layers.Dense(d_k)  # Learned projection matrix for the queries\n",
    "        self.W_k = layers.Dense(d_k)  # Learned projection matrix for the keys\n",
    "        self.W_v = layers.Dense(d_v)  # Learned projection matrix for the values\n",
    "        self.W_o = layers.Dense(d_model)  # Learned projection matrix for the multi-head output\n",
    "\n",
    "    def reshape_tensor(self, x, heads, flag):\n",
    "        if flag:\n",
    "            # Tensor shape after reshaping and transposing: (batch_size, heads, seq_length, -1)\n",
    "            x = reshape(x, shape=(shape(x)[0], shape(x)[1], heads, -1)) # shape here: (batch_size, seq_length, heads, , -1)\n",
    "            x = transpose(x, perm=(0, 2, 1, 3))\n",
    "        else:\n",
    "            # Reverting the reshaping and transposing operations: (batch_size, seq_length, d_k)\n",
    "            x = transpose(x, perm=(0, 2, 1, 3))\n",
    "            x = reshape(x, shape=(shape(x)[0], shape(x)[1], -1))\n",
    "        return x\n",
    "\n",
    "    def call(self, queries, keys, values, mask=None):\n",
    "        # Rearrange the queries to be able to compute all heads in parallel\n",
    "        q_reshaped = self.reshape_tensor(self.W_q(queries), self.heads, True) # Shape of self.W_q(queries): (64, 5, 64)\n",
    "        # Resulting tensor shape: (batch_size, heads, input_seq_length, -1)\n",
    "\n",
    "        # Rearrange the keys to be able to compute all heads in parallel\n",
    "        k_reshaped = self.reshape_tensor(self.W_k(keys), self.heads, True)\n",
    "        # Resulting tensor shape: (batch_size, heads, input_seq_length, -1)\n",
    "\n",
    "        # Rearrange the values to be able to compute all heads in parallel\n",
    "        v_reshaped = self.reshape_tensor(self.W_v(values), self.heads, True)\n",
    "        # Resulting tensor shape: (batch_size, heads, input_seq_length, -1)\n",
    "\n",
    "        # Compute the multi-head attention output using the reshaped queries, keys and values\n",
    "        o_reshaped = self.attention(q_reshaped, k_reshaped, v_reshaped, tf.constant(self.d_k), mask)\n",
    "        # Resulting tensor shape: (batch_size, heads, input_seq_length, -1)\n",
    "\n",
    "        # Rearrange back the output into concatenated form\n",
    "        output = self.reshape_tensor(o_reshaped, self.heads, False)\n",
    "        # Resulting tensor shape: (batch_size, input_seq_length, d_v)\n",
    "\n",
    "        # Apply one final linear projection to the output to generate the multi-head attention\n",
    "        # Resulting tensor shape: (batch_size, input_seq_length, d_model)\n",
    "        return self.W_o(output)"
   ]
  },
  {
   "cell_type": "markdown",
   "metadata": {},
   "source": [
    "## Why do we use projection matrices in multi-head attention and not scaled-dot product attention?"
   ]
  },
  {
   "cell_type": "markdown",
   "metadata": {},
   "source": [
    "## Projection Matrices in Multi-Head Attention vs Scaled Dot-Product Attention\n",
    "\n",
    "The key distinction is that **multi-head attention** builds upon basic scaled dot-product attention by adding projection matrices to create multiple parallel attention mechanisms.\n",
    "\n",
    "### Scaled Dot-Product Attention\n",
    "\n",
    "Scaled dot-product attention is the fundamental attention operation:\n",
    "- Uses query (Q), key (K), and value (V) matrices directly\n",
    "- Formula: `Attention(Q,K,V) = softmax(QK^T/√d_k)V`\n",
    "- No projection matrices - works with the input matrices as they are\n",
    "\n",
    "### Multi-Head Attention\n",
    "\n",
    "Multi-head attention adds projection matrices for several important reasons:\n",
    "\n",
    "1. **Multiple representation subspaces** - Each head can focus on different aspects of the input by projecting into separate subspaces\n",
    "   ```\n",
    "   head_i = Attention(QW_i^Q, KW_i^K, VW_i^V)\n",
    "   ```\n",
    "\n",
    "2. **Feature diversity** - Different heads can learn to attend to different patterns (syntactic relationships, semantic similarities, etc.)\n",
    "\n",
    "3. **Parallel processing** - Multiple attention operations happen simultaneously with different projections\n",
    "\n",
    "4. **Improved model capacity** - The projection matrices are learnable parameters that increase the model's expressiveness\n",
    "\n",
    "Without these projection matrices, we would essentially just have a single attention mechanism rather than the parallel specialized attention mechanisms that make transformers so powerful."
   ]
  },
  {
   "cell_type": "code",
   "execution_count": 10,
   "metadata": {},
   "outputs": [
    {
     "data": {
      "text/plain": [
       "TensorShape([64, 5, 512])"
      ]
     },
     "execution_count": 10,
     "metadata": {},
     "output_type": "execute_result"
    }
   ],
   "source": [
    "from numpy import random\n",
    "\n",
    "input_seq_length = 5  # Maximum length of the input sequence\n",
    "h = 8  # Number of self-attention heads\n",
    "d_k = 64  # Dimensionality of the linearly projected queries and keys\n",
    "d_v = 64  # Dimensionality of the linearly projected values\n",
    "d_model = 512  # Dimensionality of the model sub-layers' outputs\n",
    "batch_size = 64  # Batch size from the training process\n",
    "\n",
    "queries = random.random((batch_size, input_seq_length, d_k))\n",
    "keys = random.random((batch_size, input_seq_length, d_k))\n",
    "values = random.random((batch_size, input_seq_length, d_v))\n",
    "\n",
    "multihead_attention = MultiHeadAttention(h, d_k, d_v, d_model)\n",
    "multihead_attention(queries, keys, values).shape"
   ]
  },
  {
   "cell_type": "markdown",
   "metadata": {},
   "source": [
    "## Positional Encoding Matrix from scratch\n",
    "- Reference 1: https://machinelearningmastery.com/a-gentle-introduction-to-positional-encoding-in-transformer-models-part-1/\n",
    "- Reference 2: https://machinelearningmastery.com/the-transformer-positional-encoding-layer-in-keras-part-2/"
   ]
  },
  {
   "cell_type": "code",
   "execution_count": 11,
   "metadata": {},
   "outputs": [
    {
     "name": "stdout",
     "output_type": "stream",
     "text": [
      "[[ 0.          1.          0.          1.        ]\n",
      " [ 0.84147098  0.54030231  0.09983342  0.99500417]\n",
      " [ 0.90929743 -0.41614684  0.19866933  0.98006658]\n",
      " [ 0.14112001 -0.9899925   0.29552021  0.95533649]]\n"
     ]
    }
   ],
   "source": [
    "import numpy as np\n",
    "import matplotlib.pyplot as plt\n",
    "\n",
    "def getPositionEncoding(seq_len, d, n=10000):\n",
    "    P = np.zeros((seq_len, d))\n",
    "    for k in range(seq_len):\n",
    "        for i in np.arange(int(d/2)):\n",
    "            denominator = np.power(n, 2*i/d)\n",
    "            P[k, 2*i] = np.sin(k/denominator)\n",
    "            P[k, 2*i+1] = np.cos(k/denominator)\n",
    "    return P\n",
    "\n",
    "P = getPositionEncoding(seq_len=4, d=4, n=100)\n",
    "print(P)"
   ]
  },
  {
   "cell_type": "code",
   "execution_count": 12,
   "metadata": {},
   "outputs": [
    {
     "data": {
      "image/png": "[encoded data removed]",
      "text/plain": [
       "<Figure size 1500x400 with 4 Axes>"
      ]
     },
     "metadata": {},
     "output_type": "display_data"
    }
   ],
   "source": [
    "def plotSinusoid(k, d=512, n=10000):\n",
    "    x = np.arange(0, 100, 1)\n",
    "    denominator = np.power(n, 2*x/d)\n",
    "    y = np.sin(k/denominator)\n",
    "    plt.plot(x, y)\n",
    "    plt.title('k = ' + str(k))\n",
    "\n",
    "fig = plt.figure(figsize=(15, 4))    \n",
    "for i in range(4):\n",
    "    plt.subplot(141 + i)\n",
    "    plotSinusoid(i*4)"
   ]
  },
  {
   "cell_type": "code",
   "execution_count": 13,
   "metadata": {},
   "outputs": [
    {
     "data": {
      "image/png": "[encoded data removed]",
      "text/plain": [
       "<Figure size 1600x312.5 with 2 Axes>"
      ]
     },
     "metadata": {},
     "output_type": "display_data"
    }
   ],
   "source": [
    "P = getPositionEncoding(seq_len=100, d=512, n=10000)\n",
    "cax = plt.matshow(P)\n",
    "plt.gcf().colorbar(cax);"
   ]
  },
  {
   "cell_type": "code",
   "execution_count": 14,
   "metadata": {},
   "outputs": [],
   "source": [
    "from tensorflow import convert_to_tensor, string\n",
    "from tensorflow.keras.layers import TextVectorization, Embedding, Layer\n",
    "from tensorflow.data import Dataset\n",
    "import numpy as np\n",
    "import matplotlib.pyplot as plt"
   ]
  },
  {
   "cell_type": "markdown",
   "metadata": {},
   "source": [
    "### Text Vectorization"
   ]
  },
  {
   "cell_type": "code",
   "execution_count": 15,
   "metadata": {},
   "outputs": [
    {
     "name": "stdout",
     "output_type": "stream",
     "text": [
      "Vocabulary:  ['', '[UNK]', 'robot', 'you', 'too', 'i', 'am', 'a']\n",
      "Vectorized words:  tf.Tensor(\n",
      "[[5 6 7 2 0]\n",
      " [3 4 2 0 0]], shape=(2, 5), dtype=int64)\n"
     ]
    },
    {
     "name": "stderr",
     "output_type": "stream",
     "text": [
      "2025-07-31 05:07:59.142684: W tensorflow/core/framework/local_rendezvous.cc:404] Local rendezvous is aborting with status: OUT_OF_RANGE: End of sequence\n"
     ]
    }
   ],
   "source": [
    "output_sequence_length = 5\n",
    "vocab_size = 10\n",
    "sentences = [[\"I am a robot\"], [\"you too robot\"]]\n",
    "sentence_data = Dataset.from_tensor_slices(sentences)\n",
    "# Create the TextVectorization layer\n",
    "vectorize_layer = TextVectorization(\n",
    "                  output_sequence_length=output_sequence_length,\n",
    "                  max_tokens=vocab_size\n",
    "                  )\n",
    "# Train the layer to create a dictionary\n",
    "vectorize_layer.adapt(sentence_data)\n",
    "# Convert all sentences to tensors\n",
    "word_tensors = convert_to_tensor(sentences, dtype=tf.string)\n",
    "# Use the word tensors to get vectorized phrases\n",
    "vectorized_words = vectorize_layer(word_tensors)\n",
    "print(\"Vocabulary: \", vectorize_layer.get_vocabulary())\n",
    "print(\"Vectorized words: \", vectorized_words)"
   ]
  },
  {
   "cell_type": "markdown",
   "metadata": {},
   "source": [
    "### The Word Embeddings"
   ]
  },
  {
   "cell_type": "code",
   "execution_count": 16,
   "metadata": {},
   "outputs": [
    {
     "name": "stdout",
     "output_type": "stream",
     "text": [
      "(2, 5, 6)\n"
     ]
    }
   ],
   "source": [
    "output_length = 6\n",
    "word_embedding_layer = Embedding(vocab_size, output_length)\n",
    "embedded_words = word_embedding_layer(vectorized_words)\n",
    "print(embedded_words.shape)"
   ]
  },
  {
   "cell_type": "markdown",
   "metadata": {},
   "source": [
    "### The Position Embeddings"
   ]
  },
  {
   "cell_type": "code",
   "execution_count": 17,
   "metadata": {},
   "outputs": [
    {
     "name": "stdout",
     "output_type": "stream",
     "text": [
      "tf.Tensor([0 1 2 3 4], shape=(5,), dtype=int32)\n",
      "(5, 6)\n"
     ]
    }
   ],
   "source": [
    "position_embedding_layer = Embedding(output_sequence_length, output_length)\n",
    "position_indices = tf.range(output_sequence_length)\n",
    "print(position_indices)\n",
    "embedded_indices = position_embedding_layer(position_indices)\n",
    "print(embedded_indices.shape)"
   ]
  },
  {
   "cell_type": "code",
   "execution_count": 18,
   "metadata": {},
   "outputs": [
    {
     "name": "stdout",
     "output_type": "stream",
     "text": [
      "Final output:  (2, 5, 6)\n"
     ]
    }
   ],
   "source": [
    "final_output_embedding = embedded_words + embedded_indices\n",
    "print(\"Final output: \", final_output_embedding.shape)"
   ]
  },
  {
   "cell_type": "markdown",
   "metadata": {},
   "source": [
    "### SubClassing the Keras Embedding Layer"
   ]
  },
  {
   "cell_type": "code",
   "execution_count": 19,
   "metadata": {},
   "outputs": [],
   "source": [
    "class PositionEmbeddingLayer(Layer):\n",
    "    def __init__(self, sequence_length, vocab_size, output_dim, **kwargs):\n",
    "        super(PositionEmbeddingLayer, self).__init__(**kwargs)\n",
    "        self.word_embedding_layer = Embedding(input_dim=vocab_size, output_dim=output_dim)\n",
    "        self.position_embedding_layer = Embedding(input_dim=sequence_length, output_dim=output_dim)\n",
    "\n",
    "    def call(self, inputs):        \n",
    "        position_indices = tf.range(tf.shape(inputs)[-1])\n",
    "        embedded_words = self.word_embedding_layer(inputs)\n",
    "        print(\"PositionEmbeddingLayer-embedded_words\", embedded_words.shape)\n",
    "        embedded_indices = self.position_embedding_layer(position_indices)\n",
    "        print(\"PositionEmbeddingLayer-embedded_indices\", embedded_indices.shape)\n",
    "        return embedded_words + embedded_indices"
   ]
  },
  {
   "cell_type": "code",
   "execution_count": 20,
   "metadata": {},
   "outputs": [
    {
     "name": "stdout",
     "output_type": "stream",
     "text": [
      "PositionEmbeddingLayer-embedded_words (2, 5, 6)\n",
      "PositionEmbeddingLayer-embedded_indices (5, 6)\n",
      "PositionEmbeddingLayer-embedded_words (2, 5, 6)\n",
      "PositionEmbeddingLayer-embedded_indices (5, 6)\n",
      "Output from my_embedded_layer:  (2, 5, 6)\n"
     ]
    }
   ],
   "source": [
    "output_sequence_length = 5\n",
    "vocab_size = 10\n",
    "output_length = 6\n",
    "my_embedding_layer = PositionEmbeddingLayer(output_sequence_length, vocab_size, output_length)\n",
    "embedded_layer_output = my_embedding_layer(vectorized_words)\n",
    "print(\"Output from my_embedded_layer: \", embedded_layer_output.shape)"
   ]
  },
  {
   "cell_type": "markdown",
   "metadata": {},
   "source": [
    "### Positional Encoding in Transformers: Attention Is All You Need"
   ]
  },
  {
   "cell_type": "code",
   "execution_count": 21,
   "metadata": {},
   "outputs": [],
   "source": [
    "class PositionEmbeddingFixedWeights(Layer):\n",
    "    def __init__(self, sequence_length, vocab_size, output_dim, **kwargs):\n",
    "        super(PositionEmbeddingFixedWeights, self).__init__(**kwargs)\n",
    "        # word_embedding_matrix = self.get_position_encoding(vocab_size, output_dim) \n",
    "        # print(\"PositionEmbeddingFixedWeights-word_embedding_matrix\", word_embedding_matrix.shape)  \n",
    "        position_embedding_matrix = self.get_position_encoding(sequence_length, output_dim) \n",
    "        print(\"PositionEmbeddingFixedWeights-position_embedding_matrix\", position_embedding_matrix.shape)                                         \n",
    "        self.word_embedding_layer = Embedding(\n",
    "            input_dim=vocab_size, output_dim=output_dim,\n",
    "            # weights=[word_embedding_matrix],\n",
    "            trainable=False\n",
    "        )\n",
    "        self.position_embedding_layer = Embedding(\n",
    "            input_dim=sequence_length, output_dim=output_dim,\n",
    "            weights=[position_embedding_matrix],\n",
    "            trainable=False\n",
    "        )\n",
    "             \n",
    "    def get_position_encoding(self, seq_len, d, n=10000):\n",
    "        P = np.zeros((seq_len, d))\n",
    "        for k in range(seq_len):\n",
    "            for i in np.arange(int(d/2)):\n",
    "                denominator = np.power(n, 2*i/d)\n",
    "                P[k, 2*i] = np.sin(k/denominator)\n",
    "                P[k, 2*i+1] = np.cos(k/denominator)\n",
    "        return P\n",
    "\n",
    "    def call(self, inputs):        \n",
    "        position_indices = tf.range(tf.shape(inputs)[-1])\n",
    "        embedded_words = self.word_embedding_layer(inputs)\n",
    "        print(\"PositionEmbeddingFixedWeights-embedded_words\", embedded_words.shape)\n",
    "        embedded_indices = self.position_embedding_layer(position_indices)\n",
    "        print(\"PositionEmbeddingFixedWeights-embedded_indices\", embedded_indices.shape)\n",
    "        return embedded_words + embedded_indices"
   ]
  },
  {
   "cell_type": "code",
   "execution_count": 22,
   "metadata": {},
   "outputs": [
    {
     "name": "stdout",
     "output_type": "stream",
     "text": [
      "PositionEmbeddingFixedWeights-position_embedding_matrix (5, 6)\n",
      "PositionEmbeddingFixedWeights-embedded_words (2, 5, 6)\n",
      "PositionEmbeddingFixedWeights-embedded_indices (5, 6)\n",
      "PositionEmbeddingFixedWeights-embedded_words (2, 5, 6)\n",
      "PositionEmbeddingFixedWeights-embedded_indices (5, 6)\n",
      "Output from my_embedded_layer:  (2, 5, 6)\n"
     ]
    }
   ],
   "source": [
    "output_sequence_length = 5\n",
    "vocab_size = 10\n",
    "output_length = 6\n",
    "attnisallyouneed_embedding = PositionEmbeddingFixedWeights(output_sequence_length, vocab_size, output_length)\n",
    "attnisallyouneed_output = attnisallyouneed_embedding(vectorized_words)\n",
    "print(\"Output from my_embedded_layer: \", attnisallyouneed_output.shape)"
   ]
  },
  {
   "cell_type": "markdown",
   "metadata": {},
   "source": [
    "### Visualizing the Final Embedding"
   ]
  },
  {
   "cell_type": "code",
   "execution_count": 23,
   "metadata": {},
   "outputs": [
    {
     "name": "stdout",
     "output_type": "stream",
     "text": [
      "Vocabulary:  ['', '[UNK]', 'understand', 'to', 'of', 'me', 'give', 'a', 'you', 'when', 'virginia', 'the', 'such', 'second', 'said', 'patrick', 'or', 'optimization', 'need', 'matrix', 'march', 'machine', 'liberty', 'learning', 'in', 'hessians', 'henry', 'he', 'gradient', 'function', 'etc', 'death', 'convention', 'concepts', 'as', 'and', 'algorithms', 'addressed']\n",
      "Len of vocabulary:  38\n",
      "phrase_tensors:  tf.Tensor(\n",
      "[b'to understand machine learning algorithms you need to understand concepts such as gradient of a function Hessians of a matrix and optimization etc'\n",
      " b'patrick henry said give me liberty or give me death when he addressed the second virginia convention in march'], shape=(2,), dtype=string)\n",
      "vectorized_phrases:  tf.Tensor(\n",
      "[[ 3  2 21 23 36  8 18  3  2 33 12 34 28  4  7 29 25  4  7 19]\n",
      " [15 26 14  6  5 22 16  6  5 31  9 27 37 11 13 10 32 24 20  0]], shape=(2, 20), dtype=int64)\n",
      "PositionEmbeddingFixedWeights-position_embedding_matrix (20, 50)\n",
      "PositionEmbeddingLayer-embedded_words (2, 20, 50)\n",
      "PositionEmbeddingLayer-embedded_indices (20, 50)\n",
      "PositionEmbeddingLayer-embedded_words (2, 20, 50)\n",
      "PositionEmbeddingLayer-embedded_indices (20, 50)\n",
      "random_embedding shape:  (2, 20, 50)\n",
      "PositionEmbeddingFixedWeights-embedded_words (2, 20, 50)\n",
      "PositionEmbeddingFixedWeights-embedded_indices (20, 50)\n",
      "PositionEmbeddingFixedWeights-embedded_words (2, 20, 50)\n",
      "PositionEmbeddingFixedWeights-embedded_indices (20, 50)\n",
      "fixed_embedding shape:  (2, 20, 50)\n"
     ]
    }
   ],
   "source": [
    "technical_phrase = \"to understand machine learning algorithms you need\" +\\\n",
    "                   \" to understand concepts such as gradient of a function \"+\\\n",
    "                   \"Hessians of a matrix and optimization etc\"\n",
    "wise_phrase = \"patrick henry said give me liberty or give me death \"+\\\n",
    "              \"when he addressed the second virginia convention in march\"\n",
    "\n",
    "total_vocabulary = 200\n",
    "sequence_length = 20\n",
    "final_output_len = 50\n",
    "phrase_vectorization_layer = TextVectorization(\n",
    "                  output_sequence_length=sequence_length,\n",
    "                  max_tokens=total_vocabulary)\n",
    "# Learn the dictionary\n",
    "phrase_vectorization_layer.adapt([technical_phrase, wise_phrase])\n",
    "print(\"Vocabulary: \", phrase_vectorization_layer.get_vocabulary())\n",
    "print(\"Len of vocabulary: \", len(phrase_vectorization_layer.get_vocabulary()))\n",
    "# Convert all sentences to tensors\n",
    "phrase_tensors = convert_to_tensor([technical_phrase, wise_phrase], \n",
    "                                   dtype=tf.string)\n",
    "print(\"phrase_tensors: \", phrase_tensors)\n",
    "# Use the word tensors to get vectorized phrases\n",
    "vectorized_phrases = phrase_vectorization_layer(phrase_tensors)\n",
    "\n",
    "print(\"vectorized_phrases: \", vectorized_phrases)\n",
    "\n",
    "random_weights_embedding_layer = PositionEmbeddingLayer(sequence_length, \n",
    "                                                        total_vocabulary,\n",
    "                                                        final_output_len)\n",
    "fixed_weights_embedding_layer = PositionEmbeddingFixedWeights(sequence_length, \n",
    "                                                        total_vocabulary,\n",
    "                                                        final_output_len)\n",
    "random_embedding = random_weights_embedding_layer(vectorized_phrases)\n",
    "print(\"random_embedding shape: \", random_embedding.shape)\n",
    "fixed_embedding = fixed_weights_embedding_layer(vectorized_phrases)\n",
    "print(\"fixed_embedding shape: \", fixed_embedding.shape)"
   ]
  },
  {
   "cell_type": "code",
   "execution_count": 24,
   "metadata": {},
   "outputs": [
    {
     "data": {
      "image/png": "[encoded data removed]",
      "text/plain": [
       "<Figure size 1500x500 with 4 Axes>"
      ]
     },
     "metadata": {},
     "output_type": "display_data"
    }
   ],
   "source": [
    "fig = plt.figure(figsize=(15, 5))    \n",
    "title = [\"Tech Phrase\", \"Wise Phrase\"]\n",
    "for i in range(2):\n",
    "    ax = plt.subplot(1, 2, 1+i)\n",
    "    matrix = tf.reshape(random_embedding[i, :, :], (sequence_length, final_output_len))\n",
    "    cax = ax.matshow(matrix)\n",
    "    plt.gcf().colorbar(cax)   \n",
    "    plt.title(title[i], y=1.2)\n",
    "fig.suptitle(\"Random Embedding\")\n",
    "plt.show()"
   ]
  },
  {
   "cell_type": "code",
   "execution_count": 25,
   "metadata": {},
   "outputs": [
    {
     "data": {
      "image/png": "[encoded data removed]",
      "text/plain": [
       "<Figure size 1500x500 with 4 Axes>"
      ]
     },
     "metadata": {},
     "output_type": "display_data"
    }
   ],
   "source": [
    "fig = plt.figure(figsize=(15, 5))    \n",
    "title = [\"Tech Phrase\", \"Wise Phrase\"]\n",
    "for i in range(2):\n",
    "    ax = plt.subplot(1, 2, 1+i)\n",
    "    matrix = tf.reshape(fixed_embedding[i, :, :], (sequence_length, final_output_len))\n",
    "    cax = ax.matshow(matrix)\n",
    "    plt.gcf().colorbar(cax)   \n",
    "    plt.title(title[i], y=1.2)\n",
    "fig.suptitle(\"Fixed Weight Embedding from Attention is All You Need\")\n",
    "plt.show()"
   ]
  },
  {
   "cell_type": "markdown",
   "metadata": {},
   "source": [
    "## Implementing the Transformer Encoder from Scratch\n",
    "\n",
    "- Reference: https://machinelearningmastery.com/implementing-the-transformer-encoder-from-scratch-in-tensorflow-and-keras/"
   ]
  },
  {
   "cell_type": "markdown",
   "metadata": {},
   "source": [
    "### Normalization and Feed Forward layers"
   ]
  },
  {
   "cell_type": "code",
   "execution_count": 26,
   "metadata": {},
   "outputs": [],
   "source": [
    "from tensorflow.keras.layers import LayerNormalization, Layer, Dense, ReLU, Dropout\n",
    "\n",
    "# Implementing the Add & Norm Layer\n",
    "class AddNormalization(Layer):\n",
    "    def __init__(self, **kwargs):\n",
    "        super(AddNormalization, self).__init__(**kwargs)\n",
    "        self.layer_norm = LayerNormalization()  # Layer normalization layer\n",
    "\n",
    "    def call(self, x, sublayer_x):\n",
    "        # The sublayer input and output need to be of the same shape to be summed\n",
    "        add = x + sublayer_x\n",
    "\n",
    "        # Apply layer normalization to the sum\n",
    "        return self.layer_norm(add)\n",
    "\n",
    "# Implementing the Feed-Forward Layer\n",
    "class FeedForward(Layer):\n",
    "    def __init__(self, d_ff, d_model, **kwargs):\n",
    "        super(FeedForward, self).__init__(**kwargs)\n",
    "        self.fully_connected1 = Dense(d_ff)  # First fully connected layer\n",
    "        self.fully_connected2 = Dense(d_model)  # Second fully connected layer\n",
    "        self.activation = ReLU()  # ReLU activation layer\n",
    "\n",
    "    def call(self, x):\n",
    "        # The input is passed into the two fully-connected layers, with a ReLU in between\n",
    "        x_fc1 = self.fully_connected1(x)\n",
    "\n",
    "        return self.fully_connected2(self.activation(x_fc1))"
   ]
  },
  {
   "cell_type": "markdown",
   "metadata": {},
   "source": [
    "### Positional Embedding layer"
   ]
  },
  {
   "cell_type": "code",
   "execution_count": 27,
   "metadata": {},
   "outputs": [],
   "source": [
    "# Implementing the Postional encoding Layer\n",
    "class PositionEmbeddingFixedWeights(Layer):\n",
    "    def __init__(self, sequence_length, vocab_size, output_dim, **kwargs):\n",
    "        super(PositionEmbeddingFixedWeights, self).__init__(**kwargs)\n",
    "        word_embedding_matrix = self.get_position_encoding(vocab_size, output_dim) \n",
    "        # print(\"word_embedding_matrix\", word_embedding_matrix.shape)  \n",
    "        position_embedding_matrix = self.get_position_encoding(sequence_length, output_dim) \n",
    "        # print(\"position_embedding_matrix\", position_embedding_matrix.shape)                                         \n",
    "        self.word_embedding_layer = Embedding(\n",
    "            input_dim=vocab_size, output_dim=output_dim,\n",
    "            weights=[word_embedding_matrix],\n",
    "            trainable=False # should be True ideally\n",
    "        )\n",
    "        self.position_embedding_layer = Embedding(\n",
    "            input_dim=sequence_length, output_dim=output_dim,\n",
    "            weights=[position_embedding_matrix],\n",
    "            trainable=False\n",
    "        )\n",
    "             \n",
    "    def get_position_encoding(self, seq_len, d, n=10000):\n",
    "        P = np.zeros((seq_len, d))\n",
    "        for k in range(seq_len):\n",
    "            for i in np.arange(int(d/2)):\n",
    "                denominator = np.power(n, 2*i/d)\n",
    "                P[k, 2*i] = np.sin(k/denominator)\n",
    "                P[k, 2*i+1] = np.cos(k/denominator)\n",
    "        return P\n",
    "\n",
    "    def call(self, inputs):        \n",
    "        position_indices = tf.range(tf.shape(inputs)[-1])\n",
    "        embedded_words = self.word_embedding_layer(inputs)\n",
    "        # print(\"embedded_words\", embedded_words.shape)\n",
    "        embedded_indices = self.position_embedding_layer(position_indices)\n",
    "        # print(\"embedded_indices\", embedded_indices.shape)\n",
    "        final_embeddings = embedded_words + embedded_indices\n",
    "        # print(\"final_embeddings: \", final_embeddings.shape)\n",
    "        return final_embeddings"
   ]
  },
  {
   "cell_type": "markdown",
   "metadata": {},
   "source": [
    "### Encoder Layer"
   ]
  },
  {
   "cell_type": "code",
   "execution_count": 28,
   "metadata": {},
   "outputs": [],
   "source": [
    "from tensorflow import math, matmul, reshape, shape, transpose, cast, float32\n",
    "from keras import layers, Layer, activations\n",
    "\n",
    "# Implementing the Scaled-Dot Product Attention\n",
    "class DotProductAttention(Layer):\n",
    "    def __init__(self, **kwargs):\n",
    "        super(DotProductAttention, self).__init__(**kwargs)\n",
    "\n",
    "    def call(self, queries, keys, values, d_k, mask=None):\n",
    "        # Scoring the queries against the keys after transposing the latter, and scaling\n",
    "        # print(\"query and key shape - DotProductAttention: \", queries.shape, keys.shape)\n",
    "        scores = matmul(queries, keys, transpose_b=True) / math.sqrt(cast(d_k, float32))\n",
    "        # print(\"Scores - DotProductAttention: \", scores.shape)\n",
    "\n",
    "        # Apply mask to the attention scores\n",
    "        if mask is not None:\n",
    "            # print(\"Scores - DotProductAttention: \", scores.shape)\n",
    "            # print(\"mask shape - DotProductAttention: \", mask.shape)\n",
    "            scores += -1e9 * mask\n",
    "            # print(\"scores.shape - DotProductAttention: \", scores.shape)\n",
    "\n",
    "        # Computing the weights by a softmax operation\n",
    "        weights = activations.softmax(scores)\n",
    "\n",
    "        # Computing the attention by a weighted sum of the value vectors\n",
    "        return matmul(weights, values)"
   ]
  },
  {
   "cell_type": "code",
   "execution_count": 29,
   "metadata": {},
   "outputs": [],
   "source": [
    "# Implementing the Multi-Head Attention\n",
    "class MultiHeadAttention(Layer):\n",
    "    def __init__(self, h, d_k, d_v, d_model, **kwargs):\n",
    "        super(MultiHeadAttention, self).__init__(**kwargs)\n",
    "        self.attention = DotProductAttention()  # Scaled dot product attention\n",
    "        self.heads = h  # Number of attention heads to use\n",
    "        self.d_k = d_k  # Dimensionality of the linearly projected queries and keys\n",
    "        self.d_v = d_v  # Dimensionality of the linearly projected values\n",
    "        self.d_model = d_model  # Dimensionality of the model\n",
    "        self.W_q = layers.Dense(d_k)  # Learned projection matrix for the queries\n",
    "        self.W_k = layers.Dense(d_k)  # Learned projection matrix for the keys\n",
    "        self.W_v = layers.Dense(d_v)  # Learned projection matrix for the values\n",
    "        self.W_o = layers.Dense(d_model)  # Learned projection matrix for the multi-head output\n",
    "\n",
    "    def reshape_tensor(self, x, heads, flag):\n",
    "        if flag:\n",
    "            # Tensor shape after reshaping and transposing: (batch_size, heads, seq_length, -1)\n",
    "            x = reshape(x, shape=(shape(x)[0], shape(x)[1], heads, -1)) # shape here: (batch_size, seq_length, heads, , -1)\n",
    "            x = transpose(x, perm=(0, 2, 1, 3))\n",
    "        else:\n",
    "            # Reverting the reshaping and transposing operations: (batch_size, seq_length, d_k)\n",
    "            x = transpose(x, perm=(0, 2, 1, 3))\n",
    "            x = reshape(x, shape=(shape(x)[0], shape(x)[1], -1))\n",
    "        return x\n",
    "\n",
    "    def call(self, queries, keys, values, mask=None):\n",
    "        # Rearrange the queries to be able to compute all heads in parallel\n",
    "        # print(\"queries shape: \", queries.shape, self.W_q(queries).shape)\n",
    "        q_reshaped = self.reshape_tensor(self.W_q(queries), self.heads, True) # Shape of self.W_q(queries): (64, 5, 64)\n",
    "        # print(\"q_reshaed shape: \", q_reshaped.shape)\n",
    "        # Resulting tensor shape: (batch_size, heads, input_seq_length, -1)\n",
    "\n",
    "        # Rearrange the keys to be able to compute all heads in parallel\n",
    "        k_reshaped = self.reshape_tensor(self.W_k(keys), self.heads, True)\n",
    "        # Resulting tensor shape: (batch_size, heads, input_seq_length, -1)\n",
    "\n",
    "        # Rearrange the values to be able to compute all heads in parallel\n",
    "        v_reshaped = self.reshape_tensor(self.W_v(values), self.heads, True)\n",
    "        # Resulting tensor shape: (batch_size, heads, input_seq_length, -1)\n",
    "\n",
    "        # Compute the multi-head attention output using the reshaped queries, keys and values\n",
    "        o_reshaped = self.attention(q_reshaped, k_reshaped, v_reshaped, tf.constant(self.d_k), mask)\n",
    "        # Resulting tensor shape: (batch_size, heads, input_seq_length, -1)\n",
    "\n",
    "        # Rearrange back the output into concatenated form\n",
    "        output = self.reshape_tensor(o_reshaped, self.heads, False)\n",
    "        # Resulting tensor shape: (batch_size, input_seq_length, d_v)\n",
    "\n",
    "        # Apply one final linear projection to the output to generate the multi-head attention\n",
    "        # Resulting tensor shape: (batch_size, input_seq_length, d_model)\n",
    "        return self.W_o(output)"
   ]
  },
  {
   "cell_type": "code",
   "execution_count": 30,
   "metadata": {},
   "outputs": [],
   "source": [
    "from tensorflow.keras.layers import Input\n",
    "from tensorflow.keras import Model\n",
    "\n",
    "# Implementing the Encoder Layer\n",
    "class EncoderLayer(Layer):\n",
    "    def __init__(self, h, d_k, d_v, d_model, d_ff, rate, **kwargs):\n",
    "        super(EncoderLayer, self).__init__(**kwargs)\n",
    "        self.multihead_attention = MultiHeadAttention(h, d_k, d_v, d_model)\n",
    "        self.dropout1 = Dropout(rate)\n",
    "        self.add_norm1 = AddNormalization()\n",
    "        self.feed_forward = FeedForward(d_ff, d_model)\n",
    "        self.dropout2 = Dropout(rate)\n",
    "        self.add_norm2 = AddNormalization()\n",
    "\n",
    "    def call(self, x, padding_mask, training=None):\n",
    "        # Multi-head attention layer\n",
    "        multihead_output = self.multihead_attention(x, x, x, padding_mask)\n",
    "        # Expected output shape = (batch_size, sequence_length, d_model)\n",
    "\n",
    "        # Add in a dropout layer\n",
    "        multihead_output = self.dropout1(multihead_output, training=training)\n",
    "\n",
    "        # Followed by an Add & Norm layer\n",
    "        addnorm_output = self.add_norm1(x, multihead_output)\n",
    "        # Expected output shape = (batch_size, sequence_length, d_model)\n",
    "\n",
    "        # Followed by a fully connected layer\n",
    "        feedforward_output = self.feed_forward(addnorm_output)\n",
    "        # Expected output shape = (batch_size, sequence_length, d_model)\n",
    "\n",
    "        # Add in another dropout layer\n",
    "        feedforward_output = self.dropout2(feedforward_output, training=training)\n",
    "\n",
    "        # Followed by another Add & Norm layer\n",
    "        return self.add_norm2(addnorm_output, feedforward_output)\n",
    "\n",
    "# Implementing the Encoder\n",
    "class Encoder(Layer):\n",
    "    def __init__(self, vocab_size, sequence_length, h, d_k, d_v, d_model, d_ff, n, rate, **kwargs):\n",
    "        super(Encoder, self).__init__(**kwargs)\n",
    "        self.pos_encoding = PositionEmbeddingFixedWeights(sequence_length, vocab_size, d_model)\n",
    "        self.dropout = Dropout(rate)\n",
    "        self.encoder_layer = [EncoderLayer(h, d_k, d_v, d_model, d_ff, rate) for _ in range(n)]\n",
    "\n",
    "    def call(self, input_sentence, padding_mask, training=True):\n",
    "        # Generate the positional encoding\n",
    "        pos_encoding_output = self.pos_encoding(input_sentence)\n",
    "        # print(\"pos_encoding_output - Encoder: \", pos_encoding_output[0:5])\n",
    "        # Expected output shape = (batch_size, sequence_length, d_model)\n",
    "\n",
    "        # Add in a dropout layer\n",
    "        x = self.dropout(pos_encoding_output, training=training)\n",
    "\n",
    "        # Pass on the positional encoded values to each encoder layer\n",
    "        for _, layer in enumerate(self.encoder_layer):\n",
    "            x = layer(x, padding_mask, training=training)\n",
    "\n",
    "        return x"
   ]
  },
  {
   "cell_type": "code",
   "execution_count": 31,
   "metadata": {},
   "outputs": [
    {
     "data": {
      "text/plain": [
       "TensorShape([64, 5, 512])"
      ]
     },
     "execution_count": 31,
     "metadata": {},
     "output_type": "execute_result"
    }
   ],
   "source": [
    "from numpy import random\n",
    "\n",
    "enc_vocab_size = 20 # Vocabulary size for the encoder\n",
    "input_seq_length = 5  # Maximum length of the input sequence\n",
    "h = 8  # Number of self-attention heads\n",
    "d_k = 64  # Dimensionality of the linearly projected queries and keys\n",
    "d_v = 64  # Dimensionality of the linearly projected values\n",
    "d_ff = 2048  # Dimensionality of the inner fully connected layer\n",
    "d_model = 512  # Dimensionality of the model sub-layers' outputs\n",
    "n = 6  # Number of layers in the encoder stack\n",
    "\n",
    "batch_size = 64  # Batch size from the training process\n",
    "dropout_rate = 0.1  # Frequency of dropping the input units in the dropout layers\n",
    "\n",
    "input_seq = random.random((batch_size, input_seq_length))\n",
    "\n",
    "encoder = Encoder(enc_vocab_size, input_seq_length, h, d_k, d_v, d_model, d_ff, n, dropout_rate)\n",
    "encoder(input_seq, None, training=True).shape"
   ]
  },
  {
   "cell_type": "markdown",
   "metadata": {},
   "source": [
    "## Implementing the Transformer Decoder from Scratch\n",
    "\n",
    "- Reference: https://machinelearningmastery.com/implementing-the-transformer-decoder-from-scratch-in-tensorflow-and-keras/"
   ]
  },
  {
   "cell_type": "code",
   "execution_count": 32,
   "metadata": {},
   "outputs": [],
   "source": [
    "from tensorflow.keras.layers import Layer, Dropout\n",
    " \n",
    "# Implementing the Decoder Layer\n",
    "class DecoderLayer(Layer):\n",
    "    def __init__(self, h, d_k, d_v, d_model, d_ff, rate, **kwargs):\n",
    "        super(DecoderLayer, self).__init__(**kwargs)\n",
    "        self.multihead_attention1 = MultiHeadAttention(h, d_k, d_v, d_model)\n",
    "        self.dropout1 = Dropout(rate)\n",
    "        self.add_norm1 = AddNormalization()\n",
    "        self.multihead_attention2 = MultiHeadAttention(h, d_k, d_v, d_model)\n",
    "        self.dropout2 = Dropout(rate)\n",
    "        self.add_norm2 = AddNormalization()\n",
    "        self.feed_forward = FeedForward(d_ff, d_model)\n",
    "        self.dropout3 = Dropout(rate)\n",
    "        self.add_norm3 = AddNormalization()\n",
    "\n",
    "    def call(self, x, encoder_output, lookahead_mask, padding_mask, training=None):\n",
    "        # Multi-head attention layer\n",
    "        # print(\"Decoder Input: \", x.shape)\n",
    "        # print(\"lookahead mask: \", lookahead_mask.shape)\n",
    "        multihead_output1 = self.multihead_attention1(x, x, x, lookahead_mask)\n",
    "        # Expected output shape = (batch_size, sequence_length, d_model)\n",
    "\n",
    "        # Add in a dropout layer\n",
    "        multihead_output1 = self.dropout1(multihead_output1, training=training)\n",
    "\n",
    "        # Followed by an Add & Norm layer\n",
    "        addnorm_output1 = self.add_norm1(x, multihead_output1)\n",
    "        # Expected output shape = (batch_size, sequence_length, d_model)\n",
    "\n",
    "        # Followed by another multi-head attention layer\n",
    "        multihead_output2 = self.multihead_attention2(addnorm_output1, encoder_output, encoder_output, padding_mask)\n",
    "\n",
    "        # Add in another dropout layer\n",
    "        multihead_output2 = self.dropout2(multihead_output2, training=training)\n",
    "\n",
    "        # Followed by another Add & Norm layer\n",
    "        addnorm_output2 = self.add_norm2(addnorm_output1, multihead_output2)\n",
    "\n",
    "        # Followed by a fully connected layer\n",
    "        feedforward_output = self.feed_forward(addnorm_output2)\n",
    "        # Expected output shape = (batch_size, sequence_length, d_model)\n",
    "\n",
    "        # Add in another dropout layer\n",
    "        feedforward_output = self.dropout3(feedforward_output, training=training)\n",
    "\n",
    "        # Followed by another Add & Norm layer\n",
    "        return self.add_norm3(addnorm_output2, feedforward_output)\n",
    "\n",
    "# Implementing the Decoder\n",
    "class Decoder(Layer):\n",
    "    def __init__(self, vocab_size, sequence_length, h, d_k, d_v, d_model, d_ff, n, rate, **kwargs):\n",
    "        super(Decoder, self).__init__(**kwargs)\n",
    "        self.pos_encoding = PositionEmbeddingFixedWeights(sequence_length, vocab_size, d_model)\n",
    "        self.dropout = Dropout(rate)\n",
    "        self.decoder_layer = [DecoderLayer(h, d_k, d_v, d_model, d_ff, rate) for _ in range(n)]\n",
    "\n",
    "    def call(self, output_target, encoder_output, lookahead_mask, padding_mask, training=None):\n",
    "        # Generate the positional encoding\n",
    "        pos_encoding_output = self.pos_encoding(output_target)\n",
    "        # print(\"pos_encoding_output - Decoder: \", pos_encoding_output)\n",
    "        # Expected output shape = (number of sentences, sequence_length, d_model)\n",
    "\n",
    "        # Add in a dropout layer\n",
    "        \n",
    "        x = self.dropout(pos_encoding_output, training=training)\n",
    "\n",
    "        # Pass on the positional encoded values to each encoder layer\n",
    "        for _, layer in enumerate(self.decoder_layer):\n",
    "            x = layer(x, encoder_output, lookahead_mask, padding_mask, training=training)\n",
    "\n",
    "        return x"
   ]
  },
  {
   "cell_type": "code",
   "execution_count": 33,
   "metadata": {},
   "outputs": [
    {
     "data": {
      "text/plain": [
       "TensorShape([64, 5, 512])"
      ]
     },
     "execution_count": 33,
     "metadata": {},
     "output_type": "execute_result"
    }
   ],
   "source": [
    "from numpy import random\n",
    "\n",
    "dec_vocab_size = 20  # Vocabulary size for the decoder\n",
    "input_seq_length = 5  # Maximum length of the input sequence\n",
    "h = 8  # Number of self-attention heads\n",
    "d_k = 64  # Dimensionality of the linearly projected queries and keys\n",
    "d_v = 64  # Dimensionality of the linearly projected values\n",
    "d_ff = 2048  # Dimensionality of the inner fully connected layer\n",
    "d_model = 512  # Dimensionality of the model sub-layers' outputs\n",
    "n = 6  # Number of layers in the decoder stack\n",
    "\n",
    "batch_size = 64  # Batch size from the training process\n",
    "dropout_rate = 0.1  # Frequency of dropping the input units in the dropout layers\n",
    "\n",
    "input_seq = random.random((batch_size, input_seq_length))\n",
    "enc_output = random.random((batch_size, input_seq_length, d_model))\n",
    "\n",
    "decoder = Decoder(dec_vocab_size, input_seq_length, h, d_k, d_v, d_model, d_ff, n, dropout_rate)\n",
    "decoder(input_seq, enc_output, None, None, training=True).shape"
   ]
  },
  {
   "cell_type": "markdown",
   "metadata": {},
   "source": [
    "## Implementing the Joining of  Transformer Encoder and Decoder\n",
    "\n",
    "- Reference: https://machinelearningmastery.com/joining-the-transformer-encoder-and-decoder-and-masking/"
   ]
  },
  {
   "cell_type": "markdown",
   "metadata": {},
   "source": [
    "### Creating a Padding Mask"
   ]
  },
  {
   "cell_type": "code",
   "execution_count": 34,
   "metadata": {},
   "outputs": [],
   "source": [
    "from tensorflow import math, cast, float32\n",
    "\n",
    "def padding_mask(input):\n",
    "    # Create mask which marks the zero padding values in the input by a 1\n",
    "    mask = math.equal(input, 0)\n",
    "    mask = cast(mask, float32)\n",
    "\n",
    "    return mask"
   ]
  },
  {
   "cell_type": "code",
   "execution_count": 35,
   "metadata": {},
   "outputs": [
    {
     "data": {
      "text/plain": [
       "<tf.Tensor: shape=(7,), dtype=float32, numpy=array([0., 0., 0., 0., 1., 1., 1.], dtype=float32)>"
      ]
     },
     "execution_count": 35,
     "metadata": {},
     "output_type": "execute_result"
    }
   ],
   "source": [
    "from numpy import array\n",
    "\n",
    "input = array([1, 2, 3, 4, 0, 0, 0])\n",
    "padding_mask(input)"
   ]
  },
  {
   "cell_type": "markdown",
   "metadata": {},
   "source": [
    "### Creating a Look-Ahead Mask"
   ]
  },
  {
   "cell_type": "code",
   "execution_count": 36,
   "metadata": {},
   "outputs": [],
   "source": [
    "from tensorflow import linalg, ones\n",
    "\n",
    "def lookahead_mask(shape):\n",
    "    # Mask out future entries by marking them with a 1.0\n",
    "    mask = 1 - linalg.band_part(ones((shape, shape)), -1, 0)\n",
    "\n",
    "    return mask"
   ]
  },
  {
   "cell_type": "code",
   "execution_count": 37,
   "metadata": {},
   "outputs": [
    {
     "data": {
      "text/plain": [
       "<tf.Tensor: shape=(5, 5), dtype=float32, numpy=\n",
       "array([[0., 1., 1., 1., 1.],\n",
       "       [0., 0., 1., 1., 1.],\n",
       "       [0., 0., 0., 1., 1.],\n",
       "       [0., 0., 0., 0., 1.],\n",
       "       [0., 0., 0., 0., 0.]], dtype=float32)>"
      ]
     },
     "execution_count": 37,
     "metadata": {},
     "output_type": "execute_result"
    }
   ],
   "source": [
    "lookahead_mask(5)"
   ]
  },
  {
   "cell_type": "markdown",
   "metadata": {},
   "source": [
    "### Joining the Transformer Encoder and Decoder"
   ]
  },
  {
   "cell_type": "code",
   "execution_count": 38,
   "metadata": {},
   "outputs": [],
   "source": [
    "from tensorflow import math, cast, float32, linalg, ones, maximum, newaxis\n",
    "from tensorflow.keras import Model\n",
    "from tensorflow.keras.layers import Dense\n",
    "\n",
    "class TransformerModel(Model):\n",
    "    def __init__(self, enc_vocab_size, dec_vocab_size, enc_seq_length, dec_seq_length, h, d_k, d_v, d_model, d_ff_inner, n, rate, **kwargs):\n",
    "        super(TransformerModel, self).__init__(**kwargs)\n",
    "\n",
    "        # Set up the encoder\n",
    "        self.encoder = Encoder(enc_vocab_size, enc_seq_length, h, d_k, d_v, d_model, d_ff_inner, n, rate)\n",
    "\n",
    "        # Set up the decoder\n",
    "        self.decoder = Decoder(dec_vocab_size, dec_seq_length, h, d_k, d_v, d_model, d_ff_inner, n, rate)\n",
    "\n",
    "        # Define the final dense layer\n",
    "        self.model_last_layer = Dense(dec_vocab_size)\n",
    "\n",
    "    def padding_mask(self, input):\n",
    "        # Create mask which marks the zero padding values in the input by a 1.0\n",
    "        mask = math.equal(input, 0)\n",
    "        mask = cast(mask, float32)\n",
    "\n",
    "        # The shape of the mask should be broadcastable to the shape\n",
    "        # of the attention weights that it will be masking later on\n",
    "        return mask[:, newaxis, newaxis, :]\n",
    "\n",
    "    def lookahead_mask(self, shape):\n",
    "        # Mask out future entries by marking them with a 1.0\n",
    "        mask = 1 - linalg.band_part(ones((shape, shape)), -1, 0)\n",
    "\n",
    "        return mask\n",
    "\n",
    "    def call(self, encoder_input, decoder_input, training=None):\n",
    "\n",
    "        # Create padding mask to mask the encoder inputs and the encoder outputs in the decoder\n",
    "        enc_padding_mask = self.padding_mask(encoder_input)\n",
    "        # print(\"enc_padding_mask: \", enc_padding_mask.shape)\n",
    "\n",
    "        # Create and combine padding and look-ahead masks to be fed into the decoder\n",
    "        dec_in_padding_mask = self.padding_mask(decoder_input)\n",
    "        # print(\"dec_in_padding_mask - TransformerModel: \",  dec_in_padding_mask)\n",
    "        dec_in_lookahead_mask = self.lookahead_mask(decoder_input.shape[1])\n",
    "        # print(\"dec_in_lookahead_mask - TransformerModel: \",  dec_in_lookahead_mask.shape)\n",
    "        dec_in_lookahead_mask = maximum(dec_in_padding_mask, dec_in_lookahead_mask)\n",
    "        # print(\"dec_in_lookahead_mask shape - TransformerModel: \", dec_in_lookahead_mask)\n",
    "\n",
    "        # Feed the input into the encoder\n",
    "        # print(\"encoder_input - TransformerModel: \", encoder_input[0:5])\n",
    "        encoder_output = self.encoder(encoder_input, enc_padding_mask, training=training)\n",
    "        # print(\"encoder_output - TransformerModel: \", encoder_output.shape)\n",
    "\n",
    "        # Feed the encoder output into the decoder\n",
    "        # print(\"decoder_input - TransformerModel: \", decoder_input)\n",
    "        decoder_output = self.decoder(decoder_input, encoder_output, dec_in_lookahead_mask, enc_padding_mask, training=training)\n",
    "\n",
    "        # Pass the decoder output through a final dense layer\n",
    "        model_output = self.model_last_layer(decoder_output)\n",
    "\n",
    "        # print(\"model_output: \", model_output.shape)\n",
    "\n",
    "        return model_output"
   ]
  },
  {
   "cell_type": "code",
   "execution_count": 39,
   "metadata": {},
   "outputs": [
    {
     "data": {
      "text/plain": [
       "TensorShape([64, 7, 20])"
      ]
     },
     "execution_count": 39,
     "metadata": {},
     "output_type": "execute_result"
    }
   ],
   "source": [
    "enc_vocab_size = 20 # Vocabulary size for the encoder\n",
    "dec_vocab_size = 20 # Vocabulary size for the decoder\n",
    "\n",
    "enc_seq_length = 5  # Maximum length of the input sequence\n",
    "dec_seq_length = 7  # Maximum length of the target sequence\n",
    "\n",
    "h = 8  # Number of self-attention heads\n",
    "d_k = 64  # Dimensionality of the linearly projected queries and keys\n",
    "d_v = 64  # Dimensionality of the linearly projected values\n",
    "d_ff = 2048  # Dimensionality of the inner fully connected layer\n",
    "d_model = 512  # Dimensionality of the model sub-layers' outputs\n",
    "n = 6  # Number of layers in the encoder stack\n",
    "\n",
    "dropout_rate = 0.1  # Frequency of dropping the input units in the dropout layers\n",
    "\n",
    "batch_size = 64\n",
    "\n",
    "encoder_input = random.random((batch_size, enc_seq_length))\n",
    "decoder_input = random.random((batch_size, dec_seq_length))\n",
    "\n",
    "# Create model\n",
    "training_model = TransformerModel(enc_vocab_size, dec_vocab_size, enc_seq_length, dec_seq_length, h, d_k, d_v, d_model, d_ff, n, dropout_rate)\n",
    "training_model(encoder_input, decoder_input, training=True).shape"
   ]
  },
  {
   "cell_type": "markdown",
   "metadata": {},
   "source": [
    "## Training the Transformer Model\n",
    "\n",
    "- Reference: https://machinelearningmastery.com/training-the-transformer-model/"
   ]
  },
  {
   "cell_type": "markdown",
   "metadata": {},
   "source": [
    "### Preparing the Training Dataset"
   ]
  },
  {
   "cell_type": "code",
   "execution_count": 40,
   "metadata": {},
   "outputs": [],
   "source": [
    "from pickle import load\n",
    "from numpy.random import shuffle\n",
    "from tensorflow.keras.layers import TextVectorization\n",
    "\n",
    "class PrepareDataset:\n",
    "\tdef __init__(self, **kwargs):\n",
    "\t\tsuper(PrepareDataset, self).__init__(**kwargs)\n",
    "\t\tself.n_sentences = 10000  # Number of sentences to include in the dataset\n",
    "\t\tself.train_split = 0.9  # Ratio of the training data split\n",
    "\n",
    "\t# Fit a tokenizer\n",
    "\tdef create_tokenizer(self, dataset):\n",
    "\t\t# Create the TextVectorization layer\n",
    "\t\ttokenizer = TextVectorization()\n",
    "\t\t# Train the layer to create a dictionary\n",
    "\t\ttokenizer.adapt(dataset)\n",
    "\n",
    "\t\treturn tokenizer\n",
    "\n",
    "\tdef find_seq_length(self, dataset):\n",
    "\t\treturn max(len(seq.split()) for seq in dataset)\n",
    "\n",
    "\tdef find_vocab_size(self, tokenizer):\n",
    "\t\treturn len(tokenizer.get_vocabulary()) + 1\n",
    "\n",
    "\tdef __call__(self, filename, **kwargs):\n",
    "\t\t# Load a clean dataset\n",
    "\t\tclean_dataset = load(open(filename, 'rb'))\n",
    "\t\t# print(\"clean_dataset: \", clean_dataset.shape)\n",
    "\n",
    "\t\t# Reduce dataset size\n",
    "\t\tdataset = clean_dataset[:self.n_sentences, :]\n",
    "\t\t# print(\"Dataset: \", dataset)\n",
    "\n",
    "\t\t# Include start and end of string tokens\n",
    "\t\tfor i in range(dataset[:, 0].size):\n",
    "\t\t\tdataset[i, 0] = \"<SOS> \" + dataset[i, 0] + \" <EOS>\"\n",
    "\t\t\tdataset[i, 1] = \"<SOS> \" + dataset[i, 1] + \" <EOS>\"\n",
    "\n",
    "\t\t# Random shuffle the dataset\n",
    "\t\tshuffle(dataset)\n",
    "\n",
    "\t\t# Split the dataset\n",
    "\t\ttrain = dataset[:int(self.n_sentences * self.train_split)]\n",
    "\t\t# print(train[:, 0])\n",
    "\n",
    "\t\t# Prepare tokenizer for the encoder input\n",
    "\t\tenc_tokenizer = self.create_tokenizer(train[:, 0])\n",
    "\t\t# print(len(enc_tokenizer.get_vocabulary()))\n",
    "\t\tenc_seq_length = self.find_seq_length(train[:, 0])\n",
    "\t\t# print(\"enc_seq_length: \", enc_seq_length)\n",
    "\t\tenc_vocab_size = self.find_vocab_size(enc_tokenizer)\n",
    "\t\t# print(\"enc_vocab_size: \", enc_vocab_size)\n",
    "\n",
    "\t\t# Encode and pad the input sequences\n",
    "\t\ttrainX = enc_tokenizer(train[:, 0])\n",
    "\t\t\n",
    "\n",
    "\t\t# Prepare tokenizer for the decoder input\n",
    "\t\tdec_tokenizer = self.create_tokenizer(train[:, 1])\n",
    "\t\tdec_seq_length = self.find_seq_length(train[:, 1])  # + 1  Why did I add 1 here?\n",
    "\t\tdec_vocab_size = self.find_vocab_size(dec_tokenizer)\n",
    "\n",
    "\t\t# Encode and pad the input sequences\n",
    "\t\ttrainY = dec_tokenizer(train[:, 1])\n",
    "\n",
    "\t\treturn trainX, trainY, train, enc_seq_length, dec_seq_length, enc_vocab_size, dec_vocab_size"
   ]
  },
  {
   "cell_type": "code",
   "execution_count": 41,
   "metadata": {},
   "outputs": [
    {
     "name": "stdout",
     "output_type": "stream",
     "text": [
      "<SOS> are you excited <EOS> \n",
      " tf.Tensor([  2  17   6 804   3   0   0], shape=(7,), dtype=int64)\n",
      "Encoder sequence length: 7\n",
      "<SOS> seid ihr aufgeregt <EOS> \n",
      " tf.Tensor([  2  74  25 973   3   0   0   0   0   0   0   0], shape=(12,), dtype=int64)\n",
      "Decoder sequence length: 12\n",
      "enc_vocab_size:  2314\n",
      "dec_vocab_size:  3694\n",
      "trainX :  tf.Tensor(\n",
      "[[  2  17   6 ...   3   0   0]\n",
      " [  2   4  29 ... 189   3   0]\n",
      " [  2  57   5 ...   3   0   0]\n",
      " ...\n",
      " [  2  48  52 ...   3   0   0]\n",
      " [  2  41  94 ...   0   0   0]\n",
      " [  2   4  96 ...   3   0   0]], shape=(9000, 7), dtype=int64)\n",
      "trainY :  tf.Tensor(\n",
      "[[  2  74  25 ...   0   0   0]\n",
      " [  2   4  13 ...   0   0   0]\n",
      " [  2  47   6 ...   0   0   0]\n",
      " ...\n",
      " [  2   4  46 ...   0   0   0]\n",
      " [  2  56  24 ...   0   0   0]\n",
      " [  2   4 106 ...   0   0   0]], shape=(9000, 12), dtype=int64)\n"
     ]
    }
   ],
   "source": [
    "filename = './english-german-both.pkl'\n",
    "dataset = PrepareDataset()\n",
    "\n",
    "trainX, trainY, train_orig, enc_seq_length, dec_seq_length, enc_vocab_size, dec_vocab_size = dataset(filename)\n",
    " \n",
    "print(train_orig[0, 0], '\\n', trainX[0, :])\n",
    "print('Encoder sequence length:', enc_seq_length)\n",
    "print(train_orig[0, 1], '\\n', trainY[0, :])\n",
    "print('Decoder sequence length:', dec_seq_length)\n",
    "print(\"enc_vocab_size: \", enc_vocab_size)\n",
    "print(\"dec_vocab_size: \", dec_vocab_size)\n",
    "print(\"trainX : \", trainX)\n",
    "print(\"trainY : \", trainY)"
   ]
  },
  {
   "cell_type": "markdown",
   "metadata": {},
   "source": [
    "###  Model"
   ]
  },
  {
   "cell_type": "code",
   "execution_count": 42,
   "metadata": {},
   "outputs": [],
   "source": [
    "# visualise the learning rate\n",
    "warmup_steps = 4000\n",
    "d_model = 512\n",
    "lr = []\n",
    "for step_num in range(1, 10000):\n",
    "    arg1 = step_num ** -0.5\n",
    "    arg2 = step_num * (warmup_steps ** -1.5)\n",
    "    x = (d_model ** -0.5) * math.minimum(arg1, arg2)\n",
    "    lr.append(x)"
   ]
  },
  {
   "cell_type": "code",
   "execution_count": 43,
   "metadata": {},
   "outputs": [
    {
     "data": {
      "image/png": "[encoded data removed]",
      "text/plain": [
       "<Figure size 640x480 with 1 Axes>"
      ]
     },
     "metadata": {},
     "output_type": "display_data"
    }
   ],
   "source": [
    "plt.plot(lr);"
   ]
  },
  {
   "cell_type": "code",
   "execution_count": 44,
   "metadata": {},
   "outputs": [
    {
     "name": "stdout",
     "output_type": "stream",
     "text": [
      "enc_vocab_size:  2322\n",
      "dec_vocab_size:  3685\n",
      "enc_seq_length:  7\n",
      "dec_seq_length:  12\n",
      "trainX:  tf.Tensor(\n",
      "[[   2   11 1347    3    0    0    0]\n",
      " [   2   36    9  135  291    3    0]\n",
      " [   2   49 1352    3    0    0    0]\n",
      " [   2   11    9 2184    3    0    0]\n",
      " [   2   11   38  194    3    0    0]], shape=(5, 7), dtype=int64)\n",
      "trainY:  tf.Tensor(\n",
      "[[   2    4   12 1371    3    0    0    0    0    0    0    0]\n",
      " [   2  692  245    3    0    0    0    0    0    0    0    0]\n",
      " [   2    5 3214    3    0    0    0    0    0    0    0    0]\n",
      " [   2    4   12 3373    3    0    0    0    0    0    0    0]\n",
      " [   2    4   63    9 1392    3    0    0    0    0    0    0]], shape=(5, 12), dtype=int64)\n",
      "\n",
      "Start of epoch 1\n",
      "Epoch 1 Step 0 Loss 8.2881 Accuracy 0.0034\n",
      "Samples so far: 64\n",
      "Epoch 1 Step 50 Loss 7.6197 Accuracy 0.1389\n",
      "Samples so far: 3264\n",
      "Epoch 1 Step 100 Loss 7.0468 Accuracy 0.1794\n",
      "Samples so far: 6464\n"
     ]
    },
    {
     "name": "stderr",
     "output_type": "stream",
     "text": [
      "2025-07-31 05:30:56.342132: W tensorflow/core/framework/local_rendezvous.cc:404] Local rendezvous is aborting with status: OUT_OF_RANGE: End of sequence\n"
     ]
    },
    {
     "name": "stdout",
     "output_type": "stream",
     "text": [
      "Epoch 1: Training Loss 6.7271, Training Accuracy 0.1997\n",
      "\n",
      "Start of epoch 2\n",
      "Epoch 2 Step 0 Loss 5.7070 Accuracy 0.2847\n",
      "Samples so far: 64\n",
      "Epoch 2 Step 50 Loss 5.4454 Accuracy 0.2723\n",
      "Samples so far: 3264\n",
      "Epoch 2 Step 100 Loss 5.2764 Accuracy 0.2831\n",
      "Samples so far: 6464\n",
      "Epoch 2: Training Loss 5.1533, Training Accuracy 0.2907\n",
      "Total time taken: 1280.61s\n"
     ]
    },
    {
     "name": "stderr",
     "output_type": "stream",
     "text": [
      "2025-07-31 05:52:16.960150: W tensorflow/core/framework/local_rendezvous.cc:404] Local rendezvous is aborting with status: OUT_OF_RANGE: End of sequence\n"
     ]
    }
   ],
   "source": [
    "from tensorflow.keras.optimizers import Adam\n",
    "from tensorflow.keras.optimizers.schedules import LearningRateSchedule\n",
    "from tensorflow.keras.metrics import Mean\n",
    "from tensorflow import data, train, math, reduce_sum, cast, equal, argmax, float32, GradientTape, TensorSpec, function, int64\n",
    "from keras.losses import sparse_categorical_crossentropy\n",
    "from time import time\n",
    "\n",
    "# Define the model parameters\n",
    "h = 8  # Number of self-attention heads\n",
    "d_k = 64  # Dimensionality of the linearly projected queries and keys\n",
    "d_v = 64  # Dimensionality of the linearly projected values\n",
    "d_model = 512  # Dimensionality of model layers' outputs\n",
    "d_ff = 2048  # Dimensionality of the inner fully connected layer\n",
    "n = 6  # Number of layers in the encoder stack\n",
    "\n",
    "# Define the training parameters\n",
    "epochs = 2\n",
    "batch_size = 64\n",
    "beta_1 = 0.9\n",
    "beta_2 = 0.98\n",
    "epsilon = 1e-9\n",
    "dropout_rate = 0.1\n",
    "\n",
    "# Implementing a learning rate scheduler\n",
    "class LRScheduler(LearningRateSchedule):\n",
    "    def __init__(self, d_model, warmup_steps=4000, **kwargs):\n",
    "        super(LRScheduler, self).__init__(**kwargs)\n",
    "\n",
    "        self.d_model = d_model\n",
    "        self.d_model = tf.cast(self.d_model, tf.float32)\n",
    "        self.warmup_steps = warmup_steps\n",
    "\n",
    "    def __call__(self, step):\n",
    "        \n",
    "        # Linearly increasing the learning rate for the first warmup_steps, and decreasing it thereafter\n",
    "        step = tf.cast(step, dtype=tf.float32)\n",
    "        arg1 = tf.math.rsqrt(step)\n",
    "        arg2 = step * (self.warmup_steps ** -1.5)\n",
    "\n",
    "        return tf.math.rsqrt(self.d_model) * tf.math.minimum(arg1, arg2)\n",
    "\n",
    "# Instantiate an Adam optimizer\n",
    "optimizer = Adam(LRScheduler(d_model), beta_1, beta_2, epsilon)\n",
    "\n",
    "# Prepare the training and test splits of the dataset\n",
    "filename = './english-german-both.pkl'\n",
    "dataset = PrepareDataset()\n",
    "trainX, trainY, train_orig, enc_seq_length, dec_seq_length, enc_vocab_size, dec_vocab_size = dataset(filename)\n",
    "print(\"enc_vocab_size: \", enc_vocab_size)\n",
    "print(\"dec_vocab_size: \", dec_vocab_size)\n",
    "print(\"enc_seq_length: \", enc_seq_length)\n",
    "print(\"dec_seq_length: \", dec_seq_length)\n",
    "print(\"trainX: \", trainX[0:5, :])\n",
    "print(\"trainY: \", trainY[0:5, :])\n",
    "\n",
    "# Prepare the dataset batches\n",
    "train_dataset = data.Dataset.from_tensor_slices((trainX, trainY))\n",
    "train_dataset = train_dataset.batch(batch_size)\n",
    "\n",
    "# Create model\n",
    "training_model = TransformerModel(enc_vocab_size, dec_vocab_size, enc_seq_length, dec_seq_length, h, d_k, d_v, d_model, d_ff, n, dropout_rate)\n",
    "\n",
    "# Defining the loss function\n",
    "def loss_fcn(target, prediction):\n",
    "    # Create mask so that the zero padding values are not included in the computation of loss\n",
    "    padding_mask = math.logical_not(equal(target, 0))\n",
    "    padding_mask = cast(padding_mask, float32)\n",
    "\n",
    "    # print(\"padding_mask: \", padding_mask)\n",
    "\n",
    "    # Compute a sparse categorical cross-entropy loss on the unmasked values\n",
    "    loss = sparse_categorical_crossentropy(target, prediction, from_logits=True) * padding_mask\n",
    "\n",
    "    # print(\"loss: \", loss)\n",
    "\n",
    "    # Compute the mean loss over the unmasked values\n",
    "    return reduce_sum(loss) / reduce_sum(padding_mask)\n",
    "\n",
    "\n",
    "# Defining the accuracy function\n",
    "def accuracy_fcn(target, prediction):\n",
    "    # print(target)\n",
    "    # print(prediction)\n",
    "    # Create mask so that the zero padding values are not included in the computation of accuracy\n",
    "    padding_mask = math.logical_not(equal(target, 0))\n",
    "\n",
    "    # Find equal prediction and target values, and apply the padding mask\n",
    "    # print(\"argmax(prediction, axis=2): \", argmax(prediction, axis=2))\n",
    "    accuracy = equal(target, argmax(prediction, axis=2))\n",
    "    # print(\"accuracy: \", accuracy)\n",
    "    accuracy = math.logical_and(padding_mask, accuracy)\n",
    "\n",
    "    # Cast the True/False values to 32-bit-precision floating-point numbers\n",
    "    padding_mask = cast(padding_mask, float32)\n",
    "    accuracy = cast(accuracy, float32)\n",
    "\n",
    "    # Compute the mean accuracy over the unmasked values\n",
    "    return reduce_sum(accuracy) / reduce_sum(padding_mask)\n",
    "\n",
    "\n",
    "# Include metrics monitoring\n",
    "train_loss = Mean(name='train_loss')\n",
    "train_accuracy = Mean(name='train_accuracy')\n",
    "\n",
    "# # Create a checkpoint object and manager to manage multiple checkpoints\n",
    "# ckpt = train.Checkpoint(model=training_model, optimizer=optimizer)\n",
    "# ckpt_manager = train.CheckpointManager(ckpt, \"./checkpoints\", max_to_keep=3)\n",
    "\n",
    "# Speeding up the training process\n",
    "# @function\n",
    "def train_step(encoder_input, decoder_input, decoder_output):\n",
    "    with GradientTape() as tape:\n",
    "\n",
    "        # Run the forward pass of the model to generate a prediction\n",
    "        prediction = training_model(encoder_input, decoder_input, training=True)\n",
    "        # print(\"prediction: \", prediction)\n",
    "        # print(\"decoder_output: \", decoder_output)\n",
    "\n",
    "        # Compute the training loss\n",
    "        loss = loss_fcn(decoder_output, prediction)\n",
    "\n",
    "        # print(\"loss: \", loss)\n",
    "\n",
    "        # Compute the training accuracy\n",
    "        accuracy = accuracy_fcn(decoder_output, prediction)\n",
    "\n",
    "    # print(\"train step: \", decoder_output)\n",
    "    # print(\"train step: \", prediction)\n",
    "    # print('loss: ', loss)\n",
    "    # print('accuracy: ', accuracy)\n",
    "\n",
    "    # Retrieve gradients of the trainable variables with respect to the training loss\n",
    "    gradients = tape.gradient(loss, training_model.trainable_weights)\n",
    "\n",
    "    # Update the values of the trainable variables by gradient descent\n",
    "    optimizer.apply_gradients(zip(gradients, training_model.trainable_weights))\n",
    "\n",
    "    train_loss(loss)\n",
    "    train_accuracy(accuracy)\n",
    "\n",
    "\n",
    "for epoch in range(epochs):\n",
    "\n",
    "    train_loss.reset_state()\n",
    "    train_accuracy.reset_state()\n",
    "\n",
    "    print(\"\\nStart of epoch %d\" % (epoch + 1))\n",
    "\n",
    "    start_time = time()\n",
    "\n",
    "    # Iterate over the dataset batches\n",
    "    for step, (train_batchX, train_batchY) in enumerate(train_dataset):\n",
    "        # print(\"step value: \", step)\n",
    "\n",
    "        # Define the encoder and decoder inputs, and the decoder output\n",
    "        encoder_input = train_batchX[:, 1:]\n",
    "        # print(\"encoder_input: \", encoder_input[0:5])\n",
    "        \n",
    "        decoder_input = train_batchY[:, :-1]\n",
    "        # print(\"decoder_input: \", decoder_input[0:5])\n",
    "\n",
    "        decoder_output = train_batchY[:, 1:]\n",
    "        # print(\"decoder_output: \", decoder_output[0:5])\n",
    "\n",
    "        train_step(encoder_input, decoder_input, decoder_output)\n",
    "\n",
    "        if step % 50 == 0:\n",
    "            print(f'Epoch {epoch + 1} Step {step} Loss {train_loss.result():.4f} Accuracy {train_accuracy.result():.4f}')\n",
    "            print(\"Samples so far: %s\" % ((step + 1) * batch_size))\n",
    "\n",
    "    # Print epoch number and loss value at the end of every epoch\n",
    "    print(\"Epoch %d: Training Loss %.4f, Training Accuracy %.4f\" % (epoch + 1, train_loss.result(), train_accuracy.result()))\n",
    "\n",
    "    # # Save a checkpoint after every five epochs\n",
    "    # if (epoch + 1) % 5 == 0:\n",
    "    #     save_path = ckpt_manager.save()\n",
    "    #     print(\"Saved checkpoint at epoch %d\" % (epoch + 1))\n",
    "\n",
    "print(\"Total time taken: %.2fs\" % (time() - start_time))"
   ]
  },
  {
   "cell_type": "markdown",
   "metadata": {},
   "source": [
    "# Acknowledgment\n",
    "\n",
    "- Thank You [Machine Learning Mastery](https://machinelearningmastery.com/) for the wonderfull tutorials and resources on Transformers."
   ]
  }
 ],
 "metadata": {
  "kernelspec": {
   "display_name": "myproject-ker",
   "language": "python",
   "name": "myproject"
  },
  "language_info": {
   "codemirror_mode": {
    "name": "ipython",
    "version": 3
   },
   "file_extension": ".py",
   "mimetype": "text/x-python",
   "name": "python",
   "nbconvert_exporter": "python",
   "pygments_lexer": "ipython3",
   "version": "3.11.0"
  }
 },
 "nbformat": 4,
 "nbformat_minor": 2
}
